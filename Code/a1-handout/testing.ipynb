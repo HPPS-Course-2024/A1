{
 "cells": [
  {
   "cell_type": "code",
   "execution_count": 35,
   "metadata": {},
   "outputs": [
    {
     "name": "stdout",
     "output_type": "stream",
     "text": [
      "10000000\n"
     ]
    }
   ],
   "source": [
    "// Compile: g++ -o hello hello.cpp\n",
    "#include <stdio.h>\n",
    "#include <stdint.h>\n",
    "\n",
    "\n",
    "void print_bits(int8_t num) {\n",
    "    int size = sizeof(num); // 1 byte - 8 bits, hence 1*8\n",
    "    int bits = 1 * 8; \n",
    "    for (int i = bits - 1; i >= 0; i--) { // Loop from MSB to LSB\n",
    "        printf(\"%u\", (num >> i) & 1); // Extract and print the ith bit\n",
    "    }\n",
    "    printf(\"\\n\");\n",
    "}\n",
    "\n",
    "int main(){\n",
    "  int8_t a = 1;\n",
    "  print_bits(a << 7); \n",
    "}"
   ]
  }
 ],
 "metadata": {
  "kernelspec": {
   "display_name": "C",
   "language": "c",
   "name": "c"
  },
  "language_info": {
   "file_extension": ".c",
   "mimetype": "text/plain",
   "name": "c"
  }
 },
 "nbformat": 4,
 "nbformat_minor": 2
}
