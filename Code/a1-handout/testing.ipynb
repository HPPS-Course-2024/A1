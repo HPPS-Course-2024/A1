{
 "cells": [
  {
   "cell_type": "code",
   "execution_count": 5,
   "metadata": {},
   "outputs": [
    {
     "name": "stdout",
     "output_type": "stream",
     "text": [
      "4294967168"
     ]
    }
   ],
   "source": [
    "// Compile: g++ -o hello hello.cpp\n",
    "#include <stdio.h>\n",
    "#include <stdint.h>\n",
    "#include <stdbool.h>\n",
    "\n",
    "struct bit {\n",
    "  bool v;\n",
    "};\n",
    "\n",
    "struct bits8 {\n",
    "  struct bit b0; // Least significant bit\n",
    "  struct bit b1;\n",
    "  struct bit b2;\n",
    "  struct bit b3;\n",
    "  struct bit b4;\n",
    "  struct bit b5;\n",
    "  struct bit b6;\n",
    "  struct bit b7;\n",
    "};\n",
    "\n",
    "void print_bits(int8_t num) {\n",
    "    int size = sizeof(num); // 1 byte - 8 bits, hence 1*8\n",
    "    int bits = 1 * 8; \n",
    "    for (int i = bits - 1; i >= 0; i--) { // Loop from MSB to LSB\n",
    "        printf(\"%u\", (num >> i) & 1); // Extract and print the ith bit\n",
    "    }\n",
    "    printf(\"\\n\");\n",
    "}\n",
    "\n",
    "void pis(unsigned int x){\n",
    "  printf(\"%u\", x); \n",
    "}\n",
    "\n",
    "int main(){\n",
    "  int8_t x = -128; \n",
    "  pis(x); // Cast x to uint8_t\n",
    "  return 0; \n",
    "}\n"
   ]
  },
  {
   "cell_type": "markdown",
   "metadata": {},
   "source": [
    "$z=0$\n",
    "\n",
    "$$\n",
    "z = \\sum_{i=0}^{k-1} x\\cdot y_i \\cdot 2^i, \\quad \\text{ k is bits}\n",
    "$$\n",
    "\n",
    "The product $x \\cdot y_i$ is multiplying a binary number with a single bit.\n",
    "That is, $x \\cdot y_i = x$ if $y_i = 1$, otherwise, $x\\cdot y_i = 0$.\n",
    "\n",
    "Suppose, \n",
    "$$x = 1001 0110 \\quad y=1001 0110$$"
   ]
  }
 ],
 "metadata": {
  "kernelspec": {
   "display_name": "C",
   "language": "c",
   "name": "c"
  },
  "language_info": {
   "file_extension": ".c",
   "mimetype": "text/plain",
   "name": "c"
  }
 },
 "nbformat": 4,
 "nbformat_minor": 2
}
